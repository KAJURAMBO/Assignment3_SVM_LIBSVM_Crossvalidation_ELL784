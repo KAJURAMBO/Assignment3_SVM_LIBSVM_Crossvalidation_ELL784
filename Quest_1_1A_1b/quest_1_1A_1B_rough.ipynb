{
 "cells": [
  {
   "cell_type": "code",
   "execution_count": 2,
   "metadata": {},
   "outputs": [],
   "source": [
    "%matplotlib inline\n",
    "import pandas as pd\n",
    "import numpy as np\n",
    "import matplotlib.pyplot as plt\n",
    "import time\n",
    "from scipy import stats\n",
    "from scipy import constants\n",
    "\n",
    "\n",
    "import torch\n",
    "import torch.nn as nn\n",
    "from torch.nn import ReLU\n",
    "import torch.utils.data as td\n",
    "from torch.utils.data import DataLoader\n",
    "import torch.nn.functional as F\n",
    "\n",
    "from sklearn.model_selection import RandomizedSearchCV, train_test_split, GridSearchCV\n",
    "from sklearn.preprocessing import  MinMaxScaler\n",
    "from sklearn.model_selection import train_test_split\n",
    "from sklearn.base import BaseEstimator, TransformerMixin\n",
    "from sklearn.metrics import mean_squared_error"
   ]
  },
  {
   "cell_type": "code",
   "execution_count": 23,
   "metadata": {},
   "outputs": [],
   "source": [
    "# trainning and validation data\n",
    "all_data=pd.read_csv('all.csv',index_col=False,header=None)\n",
    "shuffled_data=all_data.sample(frac = 1)\n",
    "# feature=pd.read_csv('features.csv',index_col=False,header=None)\n",
    "# target=pd.read_csv('target.csv',index_col=False,header=None)\n",
    "feature=shuffled_data.iloc[:, 0:784]\n",
    "target=shuffled_data.iloc[:, 784]"
   ]
  },
  {
   "cell_type": "code",
   "execution_count": 28,
   "metadata": {},
   "outputs": [],
   "source": [
    "### Reading values only for trainning data\n",
    "feature_in=feature.values\n",
    "target_in=target.values\n",
    "\n",
    "# converting to tensor train data\n",
    "feature_tensor=torch.Tensor(feature_in)[0:2000]\n",
    "target_tensor=torch.Tensor(target_in)[0:2000]\n",
    "\n",
    "# converting to tensor test data\n",
    "feature_tensor_test=torch.Tensor(feature_in)[2000:3000]\n",
    "target_tensor_test=torch.Tensor(target_in)[2000:3000]"
   ]
  },
  {
   "cell_type": "markdown",
   "metadata": {},
   "source": []
  },
  {
   "cell_type": "code",
   "execution_count": 34,
   "metadata": {},
   "outputs": [
    {
     "name": "stdout",
     "output_type": "stream",
     "text": [
      "Initial Batch shape: torch.Size([10, 784])\n",
      "batch shape after flattening torch.Size([10, 784])\n"
     ]
    }
   ],
   "source": [
    "train=[*zip(feature_tensor,target_tensor)]\n",
    "train_loader= DataLoader(train,batch_size=10,shuffle=True)\n",
    "\n",
    "\n",
    "for image,labels in train_loader:\n",
    "        print('Initial Batch shape:',image.size())\n",
    "        break\n",
    "print('batch shape after flattening',image.view(10,-1).size())\n",
    "\n",
    "\n",
    "test=[*zip(feature_tensor_test,target_tensor_test)]\n",
    "test_loader= DataLoader(test,batch_size=10,shuffle=True)"
   ]
  },
  {
   "cell_type": "code",
   "execution_count": 87,
   "metadata": {},
   "outputs": [
    {
     "name": "stdout",
     "output_type": "stream",
     "text": [
      "MLP(\n",
      "  (x1): Linear(in_features=784, out_features=64, bias=True)\n",
      "  (x2): Linear(in_features=64, out_features=32, bias=True)\n",
      "  (x3): Linear(in_features=32, out_features=10, bias=True)\n",
      ")\n"
     ]
    }
   ],
   "source": [
    "class MLP(nn.Module):\n",
    "        def __init__(self,input_size=784,output_size=10,layers=[64,32]):\n",
    "                super().__init__()\n",
    "                self.x1=nn.Linear(input_size,layers[0])\n",
    "                self.x2=nn.Linear(layers[0],layers[1])\n",
    "                self.x3=nn.Linear(layers[1],output_size)\n",
    "\n",
    "        def forward(self,X):\n",
    "                X=F.relu(self.x1(X))\n",
    "                X=F.relu(self.x2(X))\n",
    "                X= self.x3(X)\n",
    "                return F.log_softmax(X,dim=1)\n",
    "\n",
    "model=MLP()\n",
    "print(model)"
   ]
  },
  {
   "cell_type": "code",
   "execution_count": 88,
   "metadata": {},
   "outputs": [
    {
     "name": "stdout",
     "output_type": "stream",
     "text": [
      "epoch: 0 batch:  200 Train loss: 1.356368899345398 Train accuracy: 38.10000228881836 \n",
      "tensor(5)\n",
      "epoch: 1 batch:  200 Train loss: 1.0321180820465088 Train accuracy: 67.79999542236328 \n",
      "tensor(6)\n",
      "epoch: 2 batch:  200 Train loss: 0.24031174182891846 Train accuracy: 80.8499984741211 \n",
      "tensor(9)\n",
      "epoch: 3 batch:  200 Train loss: 0.3276529014110565 Train accuracy: 86.5999984741211 \n",
      "tensor(8)\n",
      "epoch: 4 batch:  200 Train loss: 0.39760512113571167 Train accuracy: 90.5999984741211 \n",
      "tensor(9)\n",
      "epoch: 5 batch:  200 Train loss: 0.09425204992294312 Train accuracy: 93.69999694824219 \n",
      "tensor(10)\n",
      "epoch: 6 batch:  200 Train loss: 0.17673835158348083 Train accuracy: 95.3499984741211 \n",
      "tensor(10)\n",
      "epoch: 7 batch:  200 Train loss: 0.030949652194976807 Train accuracy: 97.19999694824219 \n",
      "tensor(10)\n",
      "epoch: 8 batch:  200 Train loss: 0.023634450510144234 Train accuracy: 98.0 \n",
      "tensor(10)\n",
      "epoch: 9 batch:  200 Train loss: 0.06188122555613518 Train accuracy: 98.94999694824219 \n",
      "tensor(10)\n",
      "epoch:10 batch:  200 Train loss: 0.06544332206249237 Train accuracy: 99.44999694824219 \n",
      "tensor(10)\n",
      "epoch:11 batch:  200 Train loss: 0.016961557790637016 Train accuracy: 99.5999984741211 \n",
      "tensor(10)\n",
      "epoch:12 batch:  200 Train loss: 0.02438565529882908 Train accuracy: 99.80000305175781 \n",
      "tensor(10)\n",
      "epoch:13 batch:  200 Train loss: 0.01258428581058979 Train accuracy: 99.8499984741211 \n",
      "tensor(10)\n",
      "epoch:14 batch:  200 Train loss: 0.11672285944223404 Train accuracy: 99.80000305175781 \n",
      "tensor(9)\n",
      "epoch:15 batch:  200 Train loss: 0.008779077790677547 Train accuracy: 99.8499984741211 \n",
      "tensor(10)\n",
      "epoch:16 batch:  200 Train loss: 0.003487496869638562 Train accuracy: 99.8499984741211 \n",
      "tensor(10)\n",
      "epoch:17 batch:  200 Train loss: 0.006407220847904682 Train accuracy: 99.9000015258789 \n",
      "tensor(10)\n",
      "epoch:18 batch:  200 Train loss: 0.007977296598255634 Train accuracy: 99.94999694824219 \n",
      "tensor(10)\n",
      "epoch:19 batch:  200 Train loss: 0.0015591508708894253 Train accuracy: 100.0 \n",
      "tensor(10)\n",
      "Test loss: 1.7891533374786377 Test accuracy: 87.19999694824219\n"
     ]
    }
   ],
   "source": [
    "criterion=nn.CrossEntropyLoss()\n",
    "learning_rate=0.0001\n",
    "optimizer=torch.optim.Adam(model.parameters(),lr=learning_rate)\n",
    "epochs =20\n",
    "train_loss=[]\n",
    "test_losses=[]\n",
    "train_correct=[]\n",
    "test_correct=[]\n",
    "epoch_nums = []\n",
    "for i in range(epochs):\n",
    "        trn_corr=0\n",
    "        tst_corr=0\n",
    "        \n",
    "        for b,(X_train,y_train) in enumerate(train_loader):\n",
    "                b+=1\n",
    "                \n",
    "                y_pred=model(X_train)\n",
    "                loss=criterion(y_pred,torch.flatten(y_train).type(torch.LongTensor))\n",
    "\n",
    "                predicted=torch.max(y_pred.data,1)[1]\n",
    "                batch_corr=(predicted==torch.flatten(y_train).type(torch.LongTensor)).sum()\n",
    "                \n",
    "                trn_corr+=batch_corr\n",
    "\n",
    "                optimizer.zero_grad()\n",
    "                loss.backward()\n",
    "                optimizer.step()\n",
    "               \n",
    "                if b%200 == 0:\n",
    "                        epoch_nums.append(i)\n",
    "                        train_loss.append(loss)  \n",
    "                        train_correct.append(trn_corr)\n",
    "                        print(f'epoch:{i:2} batch: {b:4} Train loss: {loss} Train accuracy: {(trn_corr/2000)*100} ')\n",
    "                        print(batch_corr)\n",
    "                \n",
    "                \n",
    "\n",
    "\n",
    "with torch.no_grad():\n",
    "        for b,(X_test,y_test) in enumerate(test_loader):\n",
    "                y_val=model(X_test)\n",
    "\n",
    "                predicted_test=torch.max(y_val.data,1)[1]\n",
    "                tst_corr+=(predicted_test==torch.flatten(y_test).type(torch.LongTensor)).sum()\n",
    "                \n",
    "loss_test= criterion(y_val,torch.flatten(y_test).type(torch.LongTensor))\n",
    "test_losses.append(loss)\n",
    "test_correct.append(tst_corr)\n",
    "\n",
    "print(f'Test loss: {loss_test} Test accuracy: {(tst_corr/1000)*100}')"
   ]
  },
  {
   "cell_type": "code",
   "execution_count": 89,
   "metadata": {},
   "outputs": [
    {
     "data": {
      "text/plain": [
       "<function matplotlib.pyplot.show(close=None, block=None)>"
      ]
     },
     "execution_count": 89,
     "metadata": {},
     "output_type": "execute_result"
    },
    {
     "data": {
      "image/png": "[encoded data removed]",
      "text/plain": [
       "<Figure size 432x288 with 1 Axes>"
      ]
     },
     "metadata": {
      "needs_background": "light"
     },
     "output_type": "display_data"
    }
   ],
   "source": [
    "tensor_trainning_loss = torch.tensor(train_loss, requires_grad=False)\n",
    "plt.plot(epoch_nums,tensor_trainning_loss)\n",
    "plt.xlabel(\"epoch\")\n",
    "plt.ylabel(\"train loss\")\n",
    "plt.title(f'train loss with epoch at learning rate={learning_rate}')\n",
    "# plt.yticks(np.linspace(170,200,10))\n",
    "plt.show\n",
    "## plotting trainning error"
   ]
  },
  {
   "cell_type": "code",
   "execution_count": null,
   "metadata": {},
   "outputs": [],
   "source": []
  }
 ],
 "metadata": {
  "kernelspec": {
   "display_name": "Python 3.10.8 64-bit (microsoft store)",
   "language": "python",
   "name": "python3"
  },
  "language_info": {
   "codemirror_mode": {
    "name": "ipython",
    "version": 3
   },
   "file_extension": ".py",
   "mimetype": "text/x-python",
   "name": "python",
   "nbconvert_exporter": "python",
   "pygments_lexer": "ipython3",
   "version": "3.10.8"
  },
  "orig_nbformat": 4,
  "vscode": {
   "interpreter": {
    "hash": "be0c76a15e7db832c1cef9e000d0973fde535108692ea45e0855d7f2c98f1a97"
   }
  }
 },
 "nbformat": 4,
 "nbformat_minor": 2
}
