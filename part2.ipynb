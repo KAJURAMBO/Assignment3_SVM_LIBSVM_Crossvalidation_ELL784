{
 "cells": [
  {
   "cell_type": "code",
   "execution_count": 1,
   "metadata": {},
   "outputs": [],
   "source": [
    "%matplotlib inline\n",
    "import requests\n",
    "import gzip\n",
    "import numpy as np\n",
    "import pandas as pd\n",
    "import patoolib\n",
    "import matplotlib.pyplot as plt\n",
    "import tensorflow as tf\n",
    "import torch\n",
    "import torch.nn as nn\n",
    "from sklearn import metrics\n",
    "import torchvision.datasets as datasets\n",
    "from torch.autograd import Variable\n",
    "from torchvision.transforms import ToTensor\n",
    "import torch.optim as optim\n",
    "from torch.utils.data import DataLoader\n",
    "from sklearn.model_selection import train_test_split"
   ]
  },
  {
   "cell_type": "code",
   "execution_count": 3,
   "metadata": {},
   "outputs": [],
   "source": [
    "urls=[\n",
    "        'http://yann.lecun.com/exdb/mnist/train-images-idx3-ubyte.gz',\n",
    "        'http://yann.lecun.com/exdb/mnist/train-labels-idx1-ubyte.gz',\n",
    "        'http://yann.lecun.com/exdb/mnist/t10k-images-idx3-ubyte.gz',\n",
    "        'http://yann.lecun.com/exdb/mnist/t10k-labels-idx1-ubyte.gz'\n",
    "]"
   ]
  },
  {
   "cell_type": "code",
   "execution_count": 4,
   "metadata": {},
   "outputs": [
    {
     "name": "stderr",
     "output_type": "stream",
     "text": [
      "C:\\Users\\rahma\\AppData\\Local\\Temp\\ipykernel_8280\\896482923.py:16: DeprecationWarning: URLopener style of invoking requests is deprecated. Use newer urlopen functions/methods\n",
      "  set_header_for('http://yann.lecun.com/exdb/mnist/train-images-idx3-ubyte.gz', 'train-images-idx3-ubyte.gz')\n",
      "C:\\Users\\rahma\\AppData\\Local\\Temp\\ipykernel_8280\\896482923.py:17: DeprecationWarning: URLopener style of invoking requests is deprecated. Use newer urlopen functions/methods\n",
      "  set_header_for('http://yann.lecun.com/exdb/mnist/train-labels-idx1-ubyte.gz', 'train-labels-idx1-ubyte.gz')\n",
      "C:\\Users\\rahma\\AppData\\Local\\Temp\\ipykernel_8280\\896482923.py:18: DeprecationWarning: URLopener style of invoking requests is deprecated. Use newer urlopen functions/methods\n",
      "  set_header_for('http://yann.lecun.com/exdb/mnist/t10k-images-idx3-ubyte.gz', 't10k-images-idx3-ubyte.gz')\n",
      "C:\\Users\\rahma\\AppData\\Local\\Temp\\ipykernel_8280\\896482923.py:19: DeprecationWarning: URLopener style of invoking requests is deprecated. Use newer urlopen functions/methods\n",
      "  set_header_for('http://yann.lecun.com/exdb/mnist/t10k-labels-idx1-ubyte.gz', 't10k-labels-idx1-ubyte.gz')\n"
     ]
    }
   ],
   "source": [
    "from torchvision import datasets\n",
    "import torchvision.transforms as transforms\n",
    "import urllib\n",
    "\n",
    "num_workers = 0\n",
    "batch_size = 20\n",
    "basepath = 'data'\n",
    "transform = transforms.ToTensor()\n",
    "\n",
    "def set_header_for(url, filename):\n",
    "    opener = urllib.request.URLopener()\n",
    "    opener.addheader('User-Agent', 'Mozilla/5.0 (Macintosh; Intel Mac OS X 10_9_3) AppleWebKit/537.36 (KHTML, like Gecko) Chrome/35.0.1916.47 Safari/537.36')\n",
    "    opener.retrieve(\n",
    "    url, f'{basepath}/{filename}')\n",
    "\n",
    "set_header_for('http://yann.lecun.com/exdb/mnist/train-images-idx3-ubyte.gz', 'train-images-idx3-ubyte.gz')\n",
    "set_header_for('http://yann.lecun.com/exdb/mnist/train-labels-idx1-ubyte.gz', 'train-labels-idx1-ubyte.gz')\n",
    "set_header_for('http://yann.lecun.com/exdb/mnist/t10k-images-idx3-ubyte.gz', 't10k-images-idx3-ubyte.gz')\n",
    "set_header_for('http://yann.lecun.com/exdb/mnist/t10k-labels-idx1-ubyte.gz', 't10k-labels-idx1-ubyte.gz')\n",
    "train_data = datasets.MNIST(root='data', train=True,\n",
    "                                   download=True, transform=transform)\n",
    "test_data = datasets.MNIST(root='data', train=False,\n",
    "                                  download=False, transform=transform)"
   ]
  },
  {
   "cell_type": "code",
   "execution_count": 4,
   "metadata": {},
   "outputs": [],
   "source": [
    "# result_train=requests.get(urls[0])\n",
    "# with open('train_data.gz','wb') as file:\n",
    "#         file.write(result.content)\n",
    "\n",
    "# result_train_label=requests.get(urls[1])\n",
    "# with open('train_label.gz','wb') as file:\n",
    "#         file.write(result.content)\n",
    "\n",
    "# result_test=requests.get(urls[2])\n",
    "# with open('test_data.gz','wb') as file:\n",
    "#         file.write(result.content)\n",
    "\n",
    "# result_test_label=requests.get(urls[3])\n",
    "# with open('test_label.gz','wb') as file:\n",
    "#         file.write(result.content)"
   ]
  },
  {
   "cell_type": "code",
   "execution_count": 5,
   "metadata": {},
   "outputs": [],
   "source": [
    "# with gzip.open('train_data.gz','rb') as file:\n",
    "#       train_feature=np.frombuffer(file.read() ,)\n"
   ]
  },
  {
   "cell_type": "code",
   "execution_count": 6,
   "metadata": {},
   "outputs": [],
   "source": [
    "# train_features=patoolib.extract_archive('train_data.gz',outdir='train_feat_unpacked',)"
   ]
  },
  {
   "cell_type": "code",
   "execution_count": 7,
   "metadata": {},
   "outputs": [],
   "source": [
    "# # download data\n",
    "# mnist_train = datasets.MNIST(root=\"/datasets\", transform=transforms.ToTensor(), download=True, train=True)\n",
    "# mnist_test = datasets.MNIST(root=\"/datasets\", transform=transforms.ToTensor(), download=True, train=False)\n",
    "\n",
    "# # defining the dataloder\n",
    "# train_loader = DataLoader(mnist_train, batch_size=BATCH_SIZE, shuffle=True)\n",
    "# test_loader = DataLoader(mnist_test, batch_size=BATCH_SIZE, shuffle=True)"
   ]
  },
  {
   "cell_type": "code",
   "execution_count": 8,
   "metadata": {},
   "outputs": [],
   "source": [
    "(train, test) = tf.keras.datasets.mnist.load_data()"
   ]
  },
  {
   "cell_type": "code",
   "execution_count": 9,
   "metadata": {},
   "outputs": [],
   "source": [
    "# DATASET_SIZE = 70000\n",
    "# TRAIN_RATIO = 0.5\n",
    "\n",
    "# VALIDATION_RATIO = 0.25\n",
    "# TEST_RATIO = 0.25\n",
    "\n",
    "# (x_train, y_train), (x_test, y_test) = tf.keras.datasets.mnist.load_data()\n",
    "\n",
    "# X = np.concatenate([x_train, x_test])\n",
    "# y = np.concatenate([y_train, y_test])"
   ]
  },
  {
   "cell_type": "code",
   "execution_count": 10,
   "metadata": {},
   "outputs": [],
   "source": [
    "# X_train, X_val, y_train, y_val = train_test_split(X, y, test_size=(1-TRAIN_RATIO))\n",
    "# X_val, X_test, y_val, y_test = train_test_split(X_val, y_val, test_size=((TEST_RATIO/(VALIDATION_RATIO+TEST_RATIO))))"
   ]
  },
  {
   "cell_type": "code",
   "execution_count": 11,
   "metadata": {},
   "outputs": [],
   "source": [
    "# X_train.shape,y_train.shape,X_test.shape,X_val.shape"
   ]
  },
  {
   "cell_type": "code",
   "execution_count": 9,
   "metadata": {},
   "outputs": [
    {
     "data": {
      "text/plain": [
       "{'train': <torch.utils.data.dataloader.DataLoader at 0x1875896d330>,\n",
       " 'test': <torch.utils.data.dataloader.DataLoader at 0x1875995dae0>}"
      ]
     },
     "execution_count": 9,
     "metadata": {},
     "output_type": "execute_result"
    }
   ],
   "source": [
    "BATCH_SIZE=100\n",
    "\n",
    "loaders = {\n",
    "    'train' : torch.utils.data.DataLoader(train_data, \n",
    "                                          batch_size=BATCH_SIZE, \n",
    "                                          shuffle=True, \n",
    "                                          num_workers=1),\n",
    "    \n",
    "    'test'  : torch.utils.data.DataLoader(test_data, \n",
    "                                          batch_size=BATCH_SIZE, \n",
    "                                          shuffle=True, \n",
    "                                          num_workers=1),\n",
    "}\n",
    "loaders"
   ]
  },
  {
   "cell_type": "code",
   "execution_count": 10,
   "metadata": {},
   "outputs": [],
   "source": [
    "class CNN(nn.Module):\n",
    "    def __init__(self):\n",
    "        super(CNN, self).__init__()\n",
    "        self.conv1 = nn.Sequential(         \n",
    "            nn.Conv2d(\n",
    "                in_channels=1,              \n",
    "                out_channels=16,            \n",
    "                kernel_size=5,              \n",
    "                stride=1,                   \n",
    "                padding=2,                  \n",
    "            ),                              \n",
    "            nn.ReLU(),                      \n",
    "            nn.MaxPool2d(kernel_size=2),    \n",
    "        )\n",
    "        self.conv2 = nn.Sequential(         \n",
    "            nn.Conv2d(16, 32, 5, 1, 2),     \n",
    "            nn.ReLU(),                      \n",
    "            nn.MaxPool2d(2),                \n",
    "        )\n",
    "        # fully connected layer, output 10 classes\n",
    "        self.out = nn.Linear(32 * 7 * 7, 10)\n",
    "    def forward(self, x):\n",
    "        \n",
    "        x = self.conv1(x)\n",
    "        x = self.conv2(x)\n",
    "        # flatten the output of conv2 to (batch_size, 32 * 7 * 7)\n",
    "        x = x.view(x.size(0), -1)       \n",
    "        output = self.out(x)\n",
    "        return output, x    # return x for visualization"
   ]
  },
  {
   "cell_type": "code",
   "execution_count": 11,
   "metadata": {},
   "outputs": [
    {
     "name": "stdout",
     "output_type": "stream",
     "text": [
      "CNN(\n",
      "  (conv1): Sequential(\n",
      "    (0): Conv2d(1, 16, kernel_size=(5, 5), stride=(1, 1), padding=(2, 2))\n",
      "    (1): ReLU()\n",
      "    (2): MaxPool2d(kernel_size=2, stride=2, padding=0, dilation=1, ceil_mode=False)\n",
      "  )\n",
      "  (conv2): Sequential(\n",
      "    (0): Conv2d(16, 32, kernel_size=(5, 5), stride=(1, 1), padding=(2, 2))\n",
      "    (1): ReLU()\n",
      "    (2): MaxPool2d(kernel_size=2, stride=2, padding=0, dilation=1, ceil_mode=False)\n",
      "  )\n",
      "  (out): Linear(in_features=1568, out_features=10, bias=True)\n",
      ")\n"
     ]
    }
   ],
   "source": [
    "cnn = CNN()\n",
    "print(cnn)"
   ]
  },
  {
   "cell_type": "code",
   "execution_count": 12,
   "metadata": {},
   "outputs": [
    {
     "data": {
      "text/plain": [
       "Adam (\n",
       "Parameter Group 0\n",
       "    amsgrad: False\n",
       "    betas: (0.9, 0.999)\n",
       "    capturable: False\n",
       "    eps: 1e-08\n",
       "    foreach: None\n",
       "    lr: 0.01\n",
       "    maximize: False\n",
       "    weight_decay: 0\n",
       ")"
      ]
     },
     "execution_count": 12,
     "metadata": {},
     "output_type": "execute_result"
    }
   ],
   "source": [
    "optimizer = optim.Adam(cnn.parameters(), lr = 0.01)   \n",
    "optimizer"
   ]
  },
  {
   "cell_type": "code",
   "execution_count": 19,
   "metadata": {},
   "outputs": [
    {
     "name": "stdout",
     "output_type": "stream",
     "text": [
      "Epoch [1/10], Step [100/600], Loss: 0.1091 Train Accuracy : =97.0\n",
      "Epoch [1/10], Step [200/600], Loss: 0.0744 Train Accuracy : =96.0\n",
      "Epoch [1/10], Step [300/600], Loss: 0.1429 Train Accuracy : =94.0\n",
      "Epoch [1/10], Step [400/600], Loss: 0.0872 Train Accuracy : =98.0\n",
      "Epoch [1/10], Step [500/600], Loss: 0.1435 Train Accuracy : =96.0\n",
      "Epoch [1/10], Step [600/600], Loss: 0.1637 Train Accuracy : =97.0\n",
      "Epoch [2/10], Step [100/600], Loss: 0.1267 Train Accuracy : =97.0\n",
      "Epoch [2/10], Step [200/600], Loss: 0.0659 Train Accuracy : =98.0\n",
      "Epoch [2/10], Step [300/600], Loss: 0.0983 Train Accuracy : =94.0\n",
      "Epoch [2/10], Step [400/600], Loss: 0.1269 Train Accuracy : =97.0\n",
      "Epoch [2/10], Step [500/600], Loss: 0.0399 Train Accuracy : =98.0\n",
      "Epoch [2/10], Step [600/600], Loss: 0.0326 Train Accuracy : =99.0\n",
      "Epoch [3/10], Step [100/600], Loss: 0.0589 Train Accuracy : =97.0\n",
      "Epoch [3/10], Step [200/600], Loss: 0.0272 Train Accuracy : =98.0\n",
      "Epoch [3/10], Step [300/600], Loss: 0.0444 Train Accuracy : =99.0\n",
      "Epoch [3/10], Step [400/600], Loss: 0.0396 Train Accuracy : =98.0\n",
      "Epoch [3/10], Step [500/600], Loss: 0.0075 Train Accuracy : =100.0\n",
      "Epoch [3/10], Step [600/600], Loss: 0.0435 Train Accuracy : =99.0\n",
      "Epoch [4/10], Step [100/600], Loss: 0.0087 Train Accuracy : =100.0\n",
      "Epoch [4/10], Step [200/600], Loss: 0.0325 Train Accuracy : =99.0\n",
      "Epoch [4/10], Step [300/600], Loss: 0.0353 Train Accuracy : =98.0\n",
      "Epoch [4/10], Step [400/600], Loss: 0.0505 Train Accuracy : =98.0\n",
      "Epoch [4/10], Step [500/600], Loss: 0.1173 Train Accuracy : =97.0\n",
      "Epoch [4/10], Step [600/600], Loss: 0.0678 Train Accuracy : =97.0\n",
      "Epoch [5/10], Step [100/600], Loss: 0.1227 Train Accuracy : =96.0\n",
      "Epoch [5/10], Step [200/600], Loss: 0.0507 Train Accuracy : =99.0\n",
      "Epoch [5/10], Step [300/600], Loss: 0.0127 Train Accuracy : =99.0\n",
      "Epoch [5/10], Step [400/600], Loss: 0.0240 Train Accuracy : =99.0\n",
      "Epoch [5/10], Step [500/600], Loss: 0.0162 Train Accuracy : =100.0\n",
      "Epoch [5/10], Step [600/600], Loss: 0.1218 Train Accuracy : =95.0\n",
      "Epoch [6/10], Step [100/600], Loss: 0.0439 Train Accuracy : =99.0\n",
      "Epoch [6/10], Step [200/600], Loss: 0.1176 Train Accuracy : =97.0\n",
      "Epoch [6/10], Step [300/600], Loss: 0.0189 Train Accuracy : =99.0\n",
      "Epoch [6/10], Step [400/600], Loss: 0.1000 Train Accuracy : =97.0\n",
      "Epoch [6/10], Step [500/600], Loss: 0.0499 Train Accuracy : =98.0\n",
      "Epoch [6/10], Step [600/600], Loss: 0.0213 Train Accuracy : =99.0\n",
      "Epoch [7/10], Step [100/600], Loss: 0.0436 Train Accuracy : =99.0\n",
      "Epoch [7/10], Step [200/600], Loss: 0.0228 Train Accuracy : =99.0\n",
      "Epoch [7/10], Step [300/600], Loss: 0.0150 Train Accuracy : =100.0\n",
      "Epoch [7/10], Step [400/600], Loss: 0.0255 Train Accuracy : =99.0\n",
      "Epoch [7/10], Step [500/600], Loss: 0.0429 Train Accuracy : =97.0\n",
      "Epoch [7/10], Step [600/600], Loss: 0.0332 Train Accuracy : =98.0\n",
      "Epoch [8/10], Step [100/600], Loss: 0.0876 Train Accuracy : =97.0\n",
      "Epoch [8/10], Step [200/600], Loss: 0.0206 Train Accuracy : =99.0\n",
      "Epoch [8/10], Step [300/600], Loss: 0.0128 Train Accuracy : =99.0\n",
      "Epoch [8/10], Step [400/600], Loss: 0.0837 Train Accuracy : =98.0\n",
      "Epoch [8/10], Step [500/600], Loss: 0.0650 Train Accuracy : =98.0\n",
      "Epoch [8/10], Step [600/600], Loss: 0.0472 Train Accuracy : =97.0\n",
      "Epoch [9/10], Step [100/600], Loss: 0.0275 Train Accuracy : =99.0\n",
      "Epoch [9/10], Step [200/600], Loss: 0.0295 Train Accuracy : =99.0\n",
      "Epoch [9/10], Step [300/600], Loss: 0.1433 Train Accuracy : =98.0\n",
      "Epoch [9/10], Step [400/600], Loss: 0.0692 Train Accuracy : =96.0\n",
      "Epoch [9/10], Step [500/600], Loss: 0.0267 Train Accuracy : =98.0\n",
      "Epoch [9/10], Step [600/600], Loss: 0.0031 Train Accuracy : =100.0\n",
      "Epoch [10/10], Step [100/600], Loss: 0.0184 Train Accuracy : =100.0\n",
      "Epoch [10/10], Step [200/600], Loss: 0.0800 Train Accuracy : =98.0\n",
      "Epoch [10/10], Step [300/600], Loss: 0.0395 Train Accuracy : =98.0\n",
      "Epoch [10/10], Step [400/600], Loss: 0.0461 Train Accuracy : =98.0\n",
      "Epoch [10/10], Step [500/600], Loss: 0.0474 Train Accuracy : =98.0\n",
      "Epoch [10/10], Step [600/600], Loss: 0.0610 Train Accuracy : =98.0\n"
     ]
    }
   ],
   "source": [
    "criterion= nn.CrossEntropyLoss()\n",
    "num_epochs = 10\n",
    "def train(num_epochs, cnn, loaders):\n",
    "    \n",
    "    cnn.train()\n",
    "        \n",
    "    # Train the model\n",
    "    total_step = len(loaders['train'])\n",
    "        \n",
    "    for epoch in range(num_epochs):\n",
    "        for i, (images, labels) in enumerate(loaders['train']):\n",
    "            \n",
    "            \n",
    "            # gives batch data, normalize x when iterate train_loader\n",
    "            b_x = Variable(images  )   # batch x\n",
    "            b_y = Variable(labels)   # batch y\n",
    "            \n",
    "            output = cnn(b_x)[0]     \n",
    "            pred_y = torch.max(output, 1)[1].data.squeeze()\n",
    "            accuracy_train= (pred_y == labels).sum().item() / float(labels.size(0))\n",
    "           \n",
    "                  \n",
    "            loss = criterion(output, b_y)\n",
    "            \n",
    "            # clear gradients for this training step   \n",
    "            optimizer.zero_grad()           \n",
    "            \n",
    "            # backpropagation, compute gradients \n",
    "            loss.backward()    \n",
    "            # apply gradients             \n",
    "            optimizer.step()                \n",
    "            \n",
    "            if (i+1) % 100 == 0:\n",
    "                print ('Epoch [{}/{}], Step [{}/{}], Loss: {:.4f}'.format(epoch + 1, num_epochs, i + 1, total_step, loss.item()),(f'Train Accuracy : ={accuracy_train*100}'))\n",
    "                pass\n",
    "        \n",
    "        pass\n",
    "    \n",
    "    \n",
    "    pass\n",
    "train(num_epochs, cnn, loaders)"
   ]
  },
  {
   "cell_type": "code",
   "execution_count": 20,
   "metadata": {},
   "outputs": [
    {
     "name": "stdout",
     "output_type": "stream",
     "text": [
      "Test Accuracy of the model on the 10000 test images: =95.0\n"
     ]
    }
   ],
   "source": [
    "def test():\n",
    "    # Test the model\n",
    "    cnn.eval()\n",
    "    with torch.no_grad():\n",
    "        correct = 0\n",
    "        total = 0\n",
    "        for images, labels in loaders['test']:\n",
    "            test_output, last_layer = cnn(images)\n",
    "            pred_y = torch.max(test_output, 1)[1].data.squeeze()\n",
    "            accuracy = (pred_y == labels).sum().item() / float(labels.size(0))\n",
    "            pass\n",
    "        print(f'Test Accuracy of the model on the 10000 test images: ={accuracy*100}')\n",
    "    \n",
    "        pass\n",
    "test()"
   ]
  },
  {
   "cell_type": "code",
   "execution_count": 14,
   "metadata": {},
   "outputs": [
    {
     "name": "stdout",
     "output_type": "stream",
     "text": [
      "Autoencoder(\n",
      "  (encoder): Sequential(\n",
      "    (0): Conv2d(1, 4, kernel_size=(5, 5), stride=(1, 1))\n",
      "    (1): ReLU(inplace=True)\n",
      "    (2): Conv2d(4, 8, kernel_size=(5, 5), stride=(1, 1))\n",
      "    (3): ReLU(inplace=True)\n",
      "    (4): Flatten(start_dim=1, end_dim=-1)\n",
      "    (5): Linear(in_features=3200, out_features=10, bias=True)\n",
      "    (6): Softmax(dim=None)\n",
      "  )\n",
      "  (decoder): Sequential(\n",
      "    (0): Linear(in_features=10, out_features=400, bias=True)\n",
      "    (1): ReLU(inplace=True)\n",
      "    (2): Linear(in_features=400, out_features=4000, bias=True)\n",
      "    (3): ReLU(inplace=True)\n",
      "    (4): Unflatten(dim=1, unflattened_size=(10, 20, 20))\n",
      "    (5): ConvTranspose2d(10, 10, kernel_size=(5, 5), stride=(1, 1))\n",
      "    (6): ConvTranspose2d(10, 1, kernel_size=(5, 5), stride=(1, 1))\n",
      "    (7): Sigmoid()\n",
      "  )\n",
      ")\n"
     ]
    }
   ],
   "source": [
    "##Autoencoder for MNIST data set\n",
    "class Autoencoder(nn.Module):\n",
    "    def __init__(self):\n",
    "        super(Autoencoder,self).__init__()\n",
    "        self.encoder = nn.Sequential(\n",
    "            # 28 x 28\n",
    "            nn.Conv2d(1, 4, kernel_size=5),\n",
    "            # 4 x 24 x 24\n",
    "            nn.ReLU(True),\n",
    "            nn.Conv2d(4, 8, kernel_size=5),\n",
    "            nn.ReLU(True),\n",
    "            # 8 x 20 x 20 = 3200\n",
    "            nn.Flatten(),\n",
    "            nn.Linear(3200, 10),\n",
    "            \n",
    "            # 10\n",
    "            nn.Softmax(),\n",
    "            )\n",
    "        self.decoder = nn.Sequential(\n",
    "            # 10\n",
    "            nn.Linear(10, 400),\n",
    "            # 400\n",
    "            nn.ReLU(True),\n",
    "            nn.Linear(400, 4000),\n",
    "            # 4000\n",
    "            nn.ReLU(True),\n",
    "            nn.Unflatten(1, (10, 20, 20)),\n",
    "            # 10 x 20 x 20\n",
    "            nn.ConvTranspose2d(10, 10, kernel_size=5),\n",
    "            # 24 x 24\n",
    "            nn.ConvTranspose2d(10, 1, kernel_size=5),\n",
    "            # 28 x 28\n",
    "            nn.Sigmoid(),\n",
    "            )\n",
    "    def forward(self, x):\n",
    "        enc = self.encoder(x)\n",
    "        dec = self.decoder(enc)\n",
    "        return dec\n",
    "\n",
    "model_ae=Autoencoder()\n",
    "print(model_ae)"
   ]
  },
  {
   "cell_type": "code",
   "execution_count": 16,
   "metadata": {},
   "outputs": [
    {
     "name": "stderr",
     "output_type": "stream",
     "text": [
      "C:\\Users\\rahma\\AppData\\Local\\Packages\\PythonSoftwareFoundation.Python.3.10_qbz5n2kfra8p0\\LocalCache\\local-packages\\Python310\\site-packages\\torch\\nn\\modules\\container.py:139: UserWarning: Implicit dimension choice for softmax has been deprecated. Change the call to include dim=X as an argument.\n",
      "  input = module(input)\n"
     ]
    },
    {
     "name": "stdout",
     "output_type": "stream",
     "text": [
      "epoch [1/20], loss: 0.1041\n",
      "epoch [2/20], loss: 0.0979\n",
      "epoch [3/20], loss: 0.0828\n",
      "epoch [4/20], loss: 0.0768\n",
      "epoch [5/20], loss: 0.0732\n",
      "epoch [6/20], loss: 0.0721\n",
      "epoch [7/20], loss: 0.0705\n",
      "epoch [8/20], loss: 0.0717\n",
      "epoch [9/20], loss: 0.0711\n",
      "epoch [10/20], loss: 0.0709\n",
      "epoch [11/20], loss: 0.0690\n",
      "epoch [12/20], loss: 0.0666\n",
      "epoch [13/20], loss: 0.0687\n",
      "epoch [14/20], loss: 0.0682\n",
      "epoch [15/20], loss: 0.0672\n",
      "epoch [16/20], loss: 0.0687\n",
      "epoch [17/20], loss: 0.0701\n",
      "epoch [18/20], loss: 0.0661\n",
      "epoch [19/20], loss: 0.0698\n",
      "epoch [20/20], loss: 0.0668\n"
     ]
    }
   ],
   "source": [
    "distance = nn.MSELoss()\n",
    "optimizer = torch.optim.SGD(model_ae.parameters(), lr=0.01, momentum=0.5)\n",
    "num_epochs=20\n",
    "losses=[]\n",
    "for epoch in range(num_epochs):\n",
    "    for data in loaders['train']:\n",
    "        img, _ = data\n",
    "        img = Variable(img).cpu()\n",
    "        output = model_ae(img)\n",
    "        loss = distance(output, img)\n",
    "        losses.append(loss)\n",
    "        optimizer.zero_grad()\n",
    "        loss.backward()\n",
    "        optimizer.step()\n",
    "    print('epoch [{}/{}], loss: {:.4f}'.format(epoch+1, num_epochs, loss.item()))"
   ]
  },
  {
   "cell_type": "code",
   "execution_count": null,
   "metadata": {},
   "outputs": [],
   "source": [
    "# tensor_trainning_loss = torch.tensor(loss, requires_grad=False)\n",
    "plt.plot(np.linspace(1,20,num=20),losses)\n",
    "plt.xlabel(\"epoch\")\n",
    "plt.ylabel(\"train loss\")\n",
    "plt.title(f'train loss vs epoch at learning rate={learning_rate} , batch size={batch_size_train} and Neurons={neuron_list}' )\n",
    "# plt.yticks(np.linspace(170,200,10))\n",
    "plt.show\n",
    "## plotting trainning error"
   ]
  },
  {
   "cell_type": "code",
   "execution_count": 19,
   "metadata": {},
   "outputs": [
    {
     "name": "stderr",
     "output_type": "stream",
     "text": [
      "C:\\Users\\rahma\\AppData\\Local\\Packages\\PythonSoftwareFoundation.Python.3.10_qbz5n2kfra8p0\\LocalCache\\local-packages\\Python310\\site-packages\\torch\\nn\\modules\\container.py:139: UserWarning: Implicit dimension choice for softmax has been deprecated. Change the call to include dim=X as an argument.\n",
      "  input = module(input)\n"
     ]
    }
   ],
   "source": [
    "confusion_matrix = np.zeros((10, 10))\n",
    "actual_ae=[]\n",
    "predicted_ae=[]\n",
    "for data in loaders['test']:\n",
    "    img, labels = data[0], data[1]\n",
    "    imgs = Variable(img)\n",
    "    encs = model_ae.encoder(imgs).detach().numpy()\n",
    "    for i in range(len(encs)):\n",
    "        predicted = np.argmax(encs[i])\n",
    "        predicted_ae.append(predicted)\n",
    "        actual = labels[i]\n",
    "        actual_ae.append(actual)\n",
    "        confusion_matrix[actual][predicted] += 1\n",
    "       \n"
   ]
  },
  {
   "cell_type": "code",
   "execution_count": 20,
   "metadata": {},
   "outputs": [
    {
     "data": {
      "text/html": [
       "<div>\n",
       "<style scoped>\n",
       "    .dataframe tbody tr th:only-of-type {\n",
       "        vertical-align: middle;\n",
       "    }\n",
       "\n",
       "    .dataframe tbody tr th {\n",
       "        vertical-align: top;\n",
       "    }\n",
       "\n",
       "    .dataframe thead th {\n",
       "        text-align: right;\n",
       "    }\n",
       "</style>\n",
       "<table border=\"1\" class=\"dataframe\">\n",
       "  <thead>\n",
       "    <tr style=\"text-align: right;\">\n",
       "      <th></th>\n",
       "      <th>0</th>\n",
       "      <th>1</th>\n",
       "      <th>2</th>\n",
       "      <th>3</th>\n",
       "      <th>4</th>\n",
       "      <th>5</th>\n",
       "      <th>6</th>\n",
       "      <th>7</th>\n",
       "      <th>8</th>\n",
       "      <th>9</th>\n",
       "    </tr>\n",
       "  </thead>\n",
       "  <tbody>\n",
       "    <tr>\n",
       "      <th>0</th>\n",
       "      <td>0</td>\n",
       "      <td>0</td>\n",
       "      <td>0</td>\n",
       "      <td>0</td>\n",
       "      <td>1</td>\n",
       "      <td>979</td>\n",
       "      <td>0</td>\n",
       "      <td>0</td>\n",
       "      <td>0</td>\n",
       "      <td>0</td>\n",
       "    </tr>\n",
       "    <tr>\n",
       "      <th>1</th>\n",
       "      <td>44</td>\n",
       "      <td>0</td>\n",
       "      <td>0</td>\n",
       "      <td>0</td>\n",
       "      <td>0</td>\n",
       "      <td>1091</td>\n",
       "      <td>0</td>\n",
       "      <td>0</td>\n",
       "      <td>0</td>\n",
       "      <td>0</td>\n",
       "    </tr>\n",
       "    <tr>\n",
       "      <th>2</th>\n",
       "      <td>0</td>\n",
       "      <td>0</td>\n",
       "      <td>0</td>\n",
       "      <td>0</td>\n",
       "      <td>0</td>\n",
       "      <td>1032</td>\n",
       "      <td>0</td>\n",
       "      <td>0</td>\n",
       "      <td>0</td>\n",
       "      <td>0</td>\n",
       "    </tr>\n",
       "    <tr>\n",
       "      <th>3</th>\n",
       "      <td>0</td>\n",
       "      <td>0</td>\n",
       "      <td>0</td>\n",
       "      <td>0</td>\n",
       "      <td>0</td>\n",
       "      <td>1010</td>\n",
       "      <td>0</td>\n",
       "      <td>0</td>\n",
       "      <td>0</td>\n",
       "      <td>0</td>\n",
       "    </tr>\n",
       "    <tr>\n",
       "      <th>4</th>\n",
       "      <td>0</td>\n",
       "      <td>0</td>\n",
       "      <td>0</td>\n",
       "      <td>0</td>\n",
       "      <td>0</td>\n",
       "      <td>982</td>\n",
       "      <td>0</td>\n",
       "      <td>0</td>\n",
       "      <td>0</td>\n",
       "      <td>0</td>\n",
       "    </tr>\n",
       "    <tr>\n",
       "      <th>5</th>\n",
       "      <td>0</td>\n",
       "      <td>0</td>\n",
       "      <td>0</td>\n",
       "      <td>0</td>\n",
       "      <td>0</td>\n",
       "      <td>892</td>\n",
       "      <td>0</td>\n",
       "      <td>0</td>\n",
       "      <td>0</td>\n",
       "      <td>0</td>\n",
       "    </tr>\n",
       "    <tr>\n",
       "      <th>6</th>\n",
       "      <td>0</td>\n",
       "      <td>0</td>\n",
       "      <td>0</td>\n",
       "      <td>0</td>\n",
       "      <td>0</td>\n",
       "      <td>958</td>\n",
       "      <td>0</td>\n",
       "      <td>0</td>\n",
       "      <td>0</td>\n",
       "      <td>0</td>\n",
       "    </tr>\n",
       "    <tr>\n",
       "      <th>7</th>\n",
       "      <td>0</td>\n",
       "      <td>0</td>\n",
       "      <td>0</td>\n",
       "      <td>0</td>\n",
       "      <td>0</td>\n",
       "      <td>1028</td>\n",
       "      <td>0</td>\n",
       "      <td>0</td>\n",
       "      <td>0</td>\n",
       "      <td>0</td>\n",
       "    </tr>\n",
       "    <tr>\n",
       "      <th>8</th>\n",
       "      <td>0</td>\n",
       "      <td>0</td>\n",
       "      <td>0</td>\n",
       "      <td>0</td>\n",
       "      <td>0</td>\n",
       "      <td>974</td>\n",
       "      <td>0</td>\n",
       "      <td>0</td>\n",
       "      <td>0</td>\n",
       "      <td>0</td>\n",
       "    </tr>\n",
       "    <tr>\n",
       "      <th>9</th>\n",
       "      <td>0</td>\n",
       "      <td>0</td>\n",
       "      <td>0</td>\n",
       "      <td>0</td>\n",
       "      <td>0</td>\n",
       "      <td>1009</td>\n",
       "      <td>0</td>\n",
       "      <td>0</td>\n",
       "      <td>0</td>\n",
       "      <td>0</td>\n",
       "    </tr>\n",
       "  </tbody>\n",
       "</table>\n",
       "</div>"
      ],
      "text/plain": [
       "    0  1  2  3  4     5  6  7  8  9\n",
       "0   0  0  0  0  1   979  0  0  0  0\n",
       "1  44  0  0  0  0  1091  0  0  0  0\n",
       "2   0  0  0  0  0  1032  0  0  0  0\n",
       "3   0  0  0  0  0  1010  0  0  0  0\n",
       "4   0  0  0  0  0   982  0  0  0  0\n",
       "5   0  0  0  0  0   892  0  0  0  0\n",
       "6   0  0  0  0  0   958  0  0  0  0\n",
       "7   0  0  0  0  0  1028  0  0  0  0\n",
       "8   0  0  0  0  0   974  0  0  0  0\n",
       "9   0  0  0  0  0  1009  0  0  0  0"
      ]
     },
     "execution_count": 20,
     "metadata": {},
     "output_type": "execute_result"
    }
   ],
   "source": [
    "report_trainning=metrics.confusion_matrix(actual_ae,predicted_ae) # due to batching we need to make this the input to confusion matrix\n",
    "# sklearn.metrics.confusion_matrix\n",
    "report_trainning\n",
    "cm_df_trainning = pd.DataFrame(report_trainning,\n",
    "                     index = ['0','1','2','3','4','5','6','7','8','9'], #,labels=[\"0\", \"1\", \"2\",\"3\", \"4\", \"5\",\"6\", \"7\", \"8\",\"9\"]\n",
    "                     columns = ['0','1','2','3','4','5','6','7','8','9'])\n",
    "cm_df_trainning\n",
    "\n",
    "# metrics.accuracy_score(actual_ae,predicted_ae)"
   ]
  },
  {
   "cell_type": "code",
   "execution_count": 21,
   "metadata": {},
   "outputs": [
    {
     "data": {
      "text/plain": [
       "0.0892"
      ]
     },
     "execution_count": 21,
     "metadata": {},
     "output_type": "execute_result"
    }
   ],
   "source": [
    "metrics.accuracy_score(actual_ae,predicted_ae)"
   ]
  },
  {
   "cell_type": "code",
   "execution_count": 22,
   "metadata": {},
   "outputs": [],
   "source": [
    "# Creating a PyTorch class\n",
    "# 28*28 ==> 9 ==> 28*28\n",
    "class AE(torch.nn.Module):\n",
    "    def __init__(self):\n",
    "        super().__init__()\n",
    "         \n",
    "        # Building an linear encoder with Linear\n",
    "        # layer followed by Relu activation function\n",
    "        # 784 ==> 9\n",
    "        self.encoder = torch.nn.Sequential(\n",
    "            torch.nn.Linear(28 * 28, 128),\n",
    "            torch.nn.ReLU(),\n",
    "            torch.nn.Linear(128, 64),\n",
    "            torch.nn.ReLU(),\n",
    "            torch.nn.Linear(64, 36),\n",
    "            torch.nn.ReLU(),\n",
    "            torch.nn.Linear(36, 18),\n",
    "            torch.nn.ReLU(),\n",
    "            torch.nn.Linear(18, 9)\n",
    "        )\n",
    "         \n",
    "        # Building an linear decoder with Linear\n",
    "        # layer followed by Relu activation function\n",
    "        # The Sigmoid activation function\n",
    "        # outputs the value between 0 and 1\n",
    "        # 9 ==> 784\n",
    "        self.decoder = torch.nn.Sequential(\n",
    "            torch.nn.Linear(9, 18),\n",
    "            torch.nn.ReLU(),\n",
    "            torch.nn.Linear(18, 36),\n",
    "            torch.nn.ReLU(),\n",
    "            torch.nn.Linear(36, 64),\n",
    "            torch.nn.ReLU(),\n",
    "            torch.nn.Linear(64, 128),\n",
    "            torch.nn.ReLU(),\n",
    "            torch.nn.Linear(128, 28 * 28),\n",
    "            torch.nn.Sigmoid()\n",
    "        )\n",
    " \n",
    "    def forward(self, x):\n",
    "        encoded = self.encoder(x)\n",
    "        decoded = self.decoder(encoded)\n",
    "        return decoded"
   ]
  },
  {
   "cell_type": "code",
   "execution_count": 41,
   "metadata": {},
   "outputs": [],
   "source": [
    "\n",
    "# Model Initialization\n",
    "model = AE()\n",
    " \n",
    "# Validation using MSE Loss function\n",
    "loss_function = torch.nn.MSELoss()\n",
    " \n",
    "# Using an Adam Optimizer with lr = 0.1\n",
    "optimizer = torch.optim.Adam(model.parameters(),\n",
    "                             lr = 1e-3,\n",
    "                             weight_decay = 1e-8)"
   ]
  },
  {
   "cell_type": "code",
   "execution_count": 42,
   "metadata": {},
   "outputs": [
    {
     "name": "stdout",
     "output_type": "stream",
     "text": [
      "Epoch [1/20], Step [600/600], Loss: 0.0465\n",
      "Epoch [2/20], Step [600/600], Loss: 0.0409\n",
      "Epoch [3/20], Step [600/600], Loss: 0.0336\n",
      "Epoch [4/20], Step [600/600], Loss: 0.0332\n",
      "Epoch [5/20], Step [600/600], Loss: 0.0304\n",
      "Epoch [6/20], Step [600/600], Loss: 0.0299\n",
      "Epoch [7/20], Step [600/600], Loss: 0.0312\n",
      "Epoch [8/20], Step [600/600], Loss: 0.0263\n",
      "Epoch [9/20], Step [600/600], Loss: 0.0260\n",
      "Epoch [10/20], Step [600/600], Loss: 0.0260\n",
      "Epoch [11/20], Step [600/600], Loss: 0.0245\n",
      "Epoch [12/20], Step [600/600], Loss: 0.0264\n",
      "Epoch [13/20], Step [600/600], Loss: 0.0263\n",
      "Epoch [14/20], Step [600/600], Loss: 0.0246\n",
      "Epoch [15/20], Step [600/600], Loss: 0.0225\n",
      "Epoch [16/20], Step [600/600], Loss: 0.0262\n",
      "Epoch [17/20], Step [600/600], Loss: 0.0287\n",
      "Epoch [18/20], Step [600/600], Loss: 0.0226\n",
      "Epoch [19/20], Step [600/600], Loss: 0.0228\n",
      "Epoch [20/20], Step [600/600], Loss: 0.0231\n"
     ]
    }
   ],
   "source": [
    "epochs = 20\n",
    "outputs = []\n",
    "losses = []\n",
    "actual_ae_fcc=[]\n",
    "predicted_ae_fcc=[]\n",
    "for epoch in range(epochs):\n",
    "    total_step = len(loaders['train'])\n",
    "    for i,(image, _) in enumerate(loaders['train']):\n",
    "       \n",
    "      # Reshaping the image to (-1, 784)\n",
    "      image = image.reshape(-1, 28*28)\n",
    "      actual_ae_fcc.append(image)\n",
    "       \n",
    "      # Output of Autoencoder\n",
    "      reconstructed = model(image)\n",
    "      ## printing last image predicted\n",
    "      predicted_ae_fcc.append(reconstructed)\n",
    "\n",
    "      \n",
    "       \n",
    "      # Calculating the loss function\n",
    "      loss = loss_function(reconstructed, image)\n",
    "       \n",
    "      # The gradients are set to zero,\n",
    "      # the gradient is computed and stored.\n",
    "      # .step() performs parameter update\n",
    "      optimizer.zero_grad()\n",
    "      loss.backward()\n",
    "      optimizer.step()\n",
    "       \n",
    "      # Storing the losses in a list for plotting\n",
    "      \n",
    "    outputs.append((epochs, image, reconstructed))\n",
    "    if (i+1) % 100 == 0:\n",
    "                losses.append(loss)\n",
    "                print ('Epoch [{}/{}], Step [{}/{}], Loss: {:.4f}'.format(epoch + 1, epochs, i + 1, total_step, loss.item()))\n",
    "                \n"
   ]
  },
  {
   "cell_type": "code",
   "execution_count": 43,
   "metadata": {},
   "outputs": [
    {
     "data": {
      "text/plain": [
       "<function matplotlib.pyplot.show(close=None, block=None)>"
      ]
     },
     "execution_count": 43,
     "metadata": {},
     "output_type": "execute_result"
    },
    {
     "data": {
      "image/png": "[encoded data removed]",
      "text/plain": [
       "<Figure size 432x288 with 1 Axes>"
      ]
     },
     "metadata": {
      "needs_background": "light"
     },
     "output_type": "display_data"
    }
   ],
   "source": [
    "# tensor_trainning_loss = torch.tensor(loss, requires_grad=False)\n",
    "plt.plot(np.linspace(1,20,num=20),torch.tensor(losses, requires_grad=False))\n",
    "plt.xlabel(\"iteration\")\n",
    "plt.ylabel(\"train loss\")\n",
    "plt.title(f'train loss vs epoch' )\n",
    "# plt.yticks(np.linspace(170,200,10))\n",
    "plt.show\n",
    "## plotting trainning error"
   ]
  },
  {
   "cell_type": "code",
   "execution_count": 44,
   "metadata": {},
   "outputs": [],
   "source": [
    "actual_ae_fcc=[]\n",
    "predicted_ae_fcc=[]\n",
    "for data in loaders['test']:\n",
    "    img, labels = data[0], data[1]\n",
    "    image = img.reshape(-1, 28*28)\n",
    "    # imgs = Variable(img)\n",
    "    encs = model.encoder(image).detach().numpy()\n",
    "    for i in range(len(encs)):\n",
    "        predicted = np.argmax(encs[i])\n",
    "        predicted_ae_fcc.append(predicted)\n",
    "        actual = labels[i]\n",
    "        actual_ae_fcc.append(actual)\n",
    "      "
   ]
  },
  {
   "cell_type": "code",
   "execution_count": 45,
   "metadata": {},
   "outputs": [
    {
     "data": {
      "text/html": [
       "<div>\n",
       "<style scoped>\n",
       "    .dataframe tbody tr th:only-of-type {\n",
       "        vertical-align: middle;\n",
       "    }\n",
       "\n",
       "    .dataframe tbody tr th {\n",
       "        vertical-align: top;\n",
       "    }\n",
       "\n",
       "    .dataframe thead th {\n",
       "        text-align: right;\n",
       "    }\n",
       "</style>\n",
       "<table border=\"1\" class=\"dataframe\">\n",
       "  <thead>\n",
       "    <tr style=\"text-align: right;\">\n",
       "      <th></th>\n",
       "      <th>0</th>\n",
       "      <th>1</th>\n",
       "      <th>2</th>\n",
       "      <th>3</th>\n",
       "      <th>4</th>\n",
       "      <th>5</th>\n",
       "      <th>6</th>\n",
       "      <th>7</th>\n",
       "      <th>8</th>\n",
       "      <th>9</th>\n",
       "    </tr>\n",
       "  </thead>\n",
       "  <tbody>\n",
       "    <tr>\n",
       "      <th>0</th>\n",
       "      <td>0</td>\n",
       "      <td>259</td>\n",
       "      <td>0</td>\n",
       "      <td>0</td>\n",
       "      <td>1</td>\n",
       "      <td>710</td>\n",
       "      <td>10</td>\n",
       "      <td>0</td>\n",
       "      <td>0</td>\n",
       "      <td>0</td>\n",
       "    </tr>\n",
       "    <tr>\n",
       "      <th>1</th>\n",
       "      <td>0</td>\n",
       "      <td>1127</td>\n",
       "      <td>0</td>\n",
       "      <td>0</td>\n",
       "      <td>8</td>\n",
       "      <td>0</td>\n",
       "      <td>0</td>\n",
       "      <td>0</td>\n",
       "      <td>0</td>\n",
       "      <td>0</td>\n",
       "    </tr>\n",
       "    <tr>\n",
       "      <th>2</th>\n",
       "      <td>0</td>\n",
       "      <td>1003</td>\n",
       "      <td>0</td>\n",
       "      <td>0</td>\n",
       "      <td>1</td>\n",
       "      <td>27</td>\n",
       "      <td>0</td>\n",
       "      <td>1</td>\n",
       "      <td>0</td>\n",
       "      <td>0</td>\n",
       "    </tr>\n",
       "    <tr>\n",
       "      <th>3</th>\n",
       "      <td>0</td>\n",
       "      <td>949</td>\n",
       "      <td>0</td>\n",
       "      <td>0</td>\n",
       "      <td>23</td>\n",
       "      <td>38</td>\n",
       "      <td>0</td>\n",
       "      <td>0</td>\n",
       "      <td>0</td>\n",
       "      <td>0</td>\n",
       "    </tr>\n",
       "    <tr>\n",
       "      <th>4</th>\n",
       "      <td>0</td>\n",
       "      <td>848</td>\n",
       "      <td>0</td>\n",
       "      <td>0</td>\n",
       "      <td>34</td>\n",
       "      <td>2</td>\n",
       "      <td>98</td>\n",
       "      <td>0</td>\n",
       "      <td>0</td>\n",
       "      <td>0</td>\n",
       "    </tr>\n",
       "    <tr>\n",
       "      <th>5</th>\n",
       "      <td>0</td>\n",
       "      <td>858</td>\n",
       "      <td>0</td>\n",
       "      <td>0</td>\n",
       "      <td>7</td>\n",
       "      <td>22</td>\n",
       "      <td>5</td>\n",
       "      <td>0</td>\n",
       "      <td>0</td>\n",
       "      <td>0</td>\n",
       "    </tr>\n",
       "    <tr>\n",
       "      <th>6</th>\n",
       "      <td>53</td>\n",
       "      <td>449</td>\n",
       "      <td>0</td>\n",
       "      <td>2</td>\n",
       "      <td>183</td>\n",
       "      <td>233</td>\n",
       "      <td>31</td>\n",
       "      <td>7</td>\n",
       "      <td>0</td>\n",
       "      <td>0</td>\n",
       "    </tr>\n",
       "    <tr>\n",
       "      <th>7</th>\n",
       "      <td>0</td>\n",
       "      <td>1007</td>\n",
       "      <td>0</td>\n",
       "      <td>0</td>\n",
       "      <td>2</td>\n",
       "      <td>0</td>\n",
       "      <td>19</td>\n",
       "      <td>0</td>\n",
       "      <td>0</td>\n",
       "      <td>0</td>\n",
       "    </tr>\n",
       "    <tr>\n",
       "      <th>8</th>\n",
       "      <td>0</td>\n",
       "      <td>961</td>\n",
       "      <td>0</td>\n",
       "      <td>0</td>\n",
       "      <td>9</td>\n",
       "      <td>3</td>\n",
       "      <td>1</td>\n",
       "      <td>0</td>\n",
       "      <td>0</td>\n",
       "      <td>0</td>\n",
       "    </tr>\n",
       "    <tr>\n",
       "      <th>9</th>\n",
       "      <td>0</td>\n",
       "      <td>986</td>\n",
       "      <td>0</td>\n",
       "      <td>0</td>\n",
       "      <td>5</td>\n",
       "      <td>1</td>\n",
       "      <td>17</td>\n",
       "      <td>0</td>\n",
       "      <td>0</td>\n",
       "      <td>0</td>\n",
       "    </tr>\n",
       "  </tbody>\n",
       "</table>\n",
       "</div>"
      ],
      "text/plain": [
       "    0     1  2  3    4    5   6  7  8  9\n",
       "0   0   259  0  0    1  710  10  0  0  0\n",
       "1   0  1127  0  0    8    0   0  0  0  0\n",
       "2   0  1003  0  0    1   27   0  1  0  0\n",
       "3   0   949  0  0   23   38   0  0  0  0\n",
       "4   0   848  0  0   34    2  98  0  0  0\n",
       "5   0   858  0  0    7   22   5  0  0  0\n",
       "6  53   449  0  2  183  233  31  7  0  0\n",
       "7   0  1007  0  0    2    0  19  0  0  0\n",
       "8   0   961  0  0    9    3   1  0  0  0\n",
       "9   0   986  0  0    5    1  17  0  0  0"
      ]
     },
     "execution_count": 45,
     "metadata": {},
     "output_type": "execute_result"
    }
   ],
   "source": [
    "report_trainning=metrics.confusion_matrix(actual_ae_fcc,torch.tensor(predicted_ae_fcc, requires_grad=False)) # due to batching we need to make this the input to confusion matrix\n",
    "# sklearn.metrics.confusion_matrix\n",
    "report_trainning\n",
    "cm_df_trainning = pd.DataFrame(report_trainning,\n",
    "                     index = ['0','1','2','3','4','5','6','7','8','9'], #,labels=[\"0\", \"1\", \"2\",\"3\", \"4\", \"5\",\"6\", \"7\", \"8\",\"9\"]\n",
    "                     columns = ['0','1','2','3','4','5','6','7','8','9'])\n",
    "cm_df_trainning\n",
    "\n",
    "# metrics.accuracy_score(actual_ae,predicted_ae)"
   ]
  },
  {
   "cell_type": "code",
   "execution_count": 46,
   "metadata": {},
   "outputs": [
    {
     "data": {
      "text/plain": [
       "[<matplotlib.lines.Line2D at 0x18715a07f70>]"
      ]
     },
     "execution_count": 46,
     "metadata": {},
     "output_type": "execute_result"
    },
    {
     "data": {
      "image/png": "[encoded data removed]",
      "text/plain": [
       "<Figure size 432x288 with 1 Axes>"
      ]
     },
     "metadata": {},
     "output_type": "display_data"
    }
   ],
   "source": [
    "# Defining the Plot Style\n",
    "plt.style.use('fivethirtyeight')\n",
    "plt.xlabel('Iterations')\n",
    "plt.ylabel('Loss')\n",
    "# tensor_trainning_loss = torch.tensor(losses, requires_grad=False)\n",
    " \n",
    "# Plotting the last 100 values\n",
    "plt.plot(torch.tensor(losses, requires_grad=False)[-100:].detach().numpy())"
   ]
  },
  {
   "cell_type": "code",
   "execution_count": 47,
   "metadata": {},
   "outputs": [
    {
     "data": {
      "image/png": "[encoded data removed]",
      "text/plain": [
       "<Figure size 432x288 with 1 Axes>"
      ]
     },
     "metadata": {},
     "output_type": "display_data"
    }
   ],
   "source": [
    "## printing last image actual\n",
    "for i, item in enumerate(image):\n",
    "   \n",
    "  # Reshape the array for plotting\n",
    "  item = item.reshape(-1, 28, 28)\n",
    "  plt.imshow(item[0])\n",
    " \n"
   ]
  },
  {
   "cell_type": "code",
   "execution_count": 48,
   "metadata": {},
   "outputs": [
    {
     "name": "stderr",
     "output_type": "stream",
     "text": [
      "C:\\Users\\rahma\\AppData\\Local\\Temp\\ipykernel_8280\\2421502944.py:5: UserWarning: To copy construct from a tensor, it is recommended to use sourceTensor.clone().detach() or sourceTensor.clone().detach().requires_grad_(True), rather than torch.tensor(sourceTensor).\n",
      "  plt.imshow(torch.tensor(item[0], requires_grad=False))\n"
     ]
    },
    {
     "data": {
      "image/png": "[encoded data removed]",
      "text/plain": [
       "<Figure size 432x288 with 1 Axes>"
      ]
     },
     "metadata": {},
     "output_type": "display_data"
    }
   ],
   "source": [
    "## printing last image predicted\n",
    "\n",
    "for i, item in enumerate(reconstructed):\n",
    "  item = item.reshape(-1, 28, 28)\n",
    "  plt.imshow(torch.tensor(item[0], requires_grad=False))"
   ]
  },
  {
   "cell_type": "code",
   "execution_count": null,
   "metadata": {},
   "outputs": [],
   "source": []
  }
 ],
 "metadata": {
  "kernelspec": {
   "display_name": "Python 3.10.8 64-bit (microsoft store)",
   "language": "python",
   "name": "python3"
  },
  "language_info": {
   "codemirror_mode": {
    "name": "ipython",
    "version": 3
   },
   "file_extension": ".py",
   "mimetype": "text/x-python",
   "name": "python",
   "nbconvert_exporter": "python",
   "pygments_lexer": "ipython3",
   "version": "3.10.8"
  },
  "orig_nbformat": 4,
  "vscode": {
   "interpreter": {
    "hash": "be0c76a15e7db832c1cef9e000d0973fde535108692ea45e0855d7f2c98f1a97"
   }
  }
 },
 "nbformat": 4,
 "nbformat_minor": 2
}
